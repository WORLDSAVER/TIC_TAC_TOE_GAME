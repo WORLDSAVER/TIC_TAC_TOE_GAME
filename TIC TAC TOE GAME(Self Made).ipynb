{
 "cells": [
  {
   "cell_type": "code",
   "execution_count": 2,
   "metadata": {},
   "outputs": [],
   "source": [
    "from IPython.display import clear_output\n",
    "def enter_message():\n",
    "    print(\"Hey! Welcome to Hridyansh's TIC TAC TOE Game!\")\n",
    "    print(\"In this game you'll have to enter the grid number where you want to place your X or your O. All other basic rules of TIC TAC TOE will be valid.\")\n",
    "    print('This is the GRID\\n[7,8,9]\\n[4,5,6]\\n[1,2,3]')\n",
    "    print('Say you are player 1 and you have chosen X then you\\'l tell me your grid number where you want to place X and so on.')\n"
   ]
  },
  {
   "cell_type": "code",
   "execution_count": 3,
   "metadata": {},
   "outputs": [
    {
     "name": "stdout",
     "output_type": "stream",
     "text": [
      "Hey! Welcome to Hridyansh's TIC TAC TOE Game!\n",
      "In this game you'll have to enter the grid number where you want to place your X or your O. All other basic rules of TIC TAC TOE will be valid.\n",
      "This is the GRID\n",
      "[7,8,9]\n",
      "[4,5,6]\n",
      "[1,2,3]\n",
      "Say you are player 1 and you have chosen X then you'l tell me your grid number where you want to place X and so on.\n"
     ]
    }
   ],
   "source": [
    "enter_message()"
   ]
  },
  {
   "cell_type": "code",
   "execution_count": 4,
   "metadata": {},
   "outputs": [],
   "source": [
    "def player_1():\n",
    "    return input(\"Please enter name of the player who will go first.\")"
   ]
  },
  {
   "cell_type": "code",
   "execution_count": 5,
   "metadata": {},
   "outputs": [],
   "source": [
    "def player_2():\n",
    "    return input(\"Please enter second player's name.\")"
   ]
  },
  {
   "cell_type": "code",
   "execution_count": 6,
   "metadata": {},
   "outputs": [
    {
     "name": "stdout",
     "output_type": "stream",
     "text": [
      "Please enter name of the player who will go first.H\n"
     ]
    },
    {
     "data": {
      "text/plain": [
       "'H'"
      ]
     },
     "execution_count": 6,
     "metadata": {},
     "output_type": "execute_result"
    }
   ],
   "source": [
    "player_1()"
   ]
  },
  {
   "cell_type": "code",
   "execution_count": 7,
   "metadata": {},
   "outputs": [],
   "source": [
    "def x_or_o(player1,player2):\n",
    "    x_or_o_1=''\n",
    "    while x_or_o_1 not in [\"X\",\"O\"]:\n",
    "        x_or_o_1=input(f'{player1} would you like to choose an X or an O.')\n",
    "        clear_output()\n",
    "        if x_or_o_1 not in [\"X\",\"O\"]:\n",
    "            print(f'{player1} Please enter either X or an O')\n",
    "        else:\n",
    "            if x_or_o_1=='X':\n",
    "                print(f'{player2} you will have to play with an O')\n",
    "            else:\n",
    "                print(f'{player2} you will have to play with an X')\n",
    "    return x_or_o_1"
   ]
  },
  {
   "cell_type": "code",
   "execution_count": 8,
   "metadata": {},
   "outputs": [
    {
     "name": "stdout",
     "output_type": "stream",
     "text": [
      "Puneet you will have to play with an O\n"
     ]
    },
    {
     "data": {
      "text/plain": [
       "'X'"
      ]
     },
     "execution_count": 8,
     "metadata": {},
     "output_type": "execute_result"
    }
   ],
   "source": [
    "x_or_o('Raghav','Puneet')"
   ]
  },
  {
   "cell_type": "code",
   "execution_count": 9,
   "metadata": {},
   "outputs": [],
   "source": [
    "row_1=[' ',' ',' ']\n",
    "row_2=[' ',' ',' ']\n",
    "row_3=[' ',' ',' ']\n",
    "def player1_index_input(player1,character1,row_1,row_2,row_3):\n",
    "    row1=[1,2,3]\n",
    "    row2=[4,5,6]\n",
    "    row3=[7,8,9]\n",
    "    \n",
    "    index=''\n",
    "    print('This is the allignment as of now')\n",
    "    print(row3)\n",
    "    print(row2)\n",
    "    print(row1)\n",
    "    print('This is input row as of now')\n",
    "    print(row_3)\n",
    "    print(row_2)\n",
    "    print(row_1)\n",
    "    while index.isdigit()==False or int(index) not in range(1,10):\n",
    "        index=input(f\"{player1} please enter an index position where you want to place your {character1} at : \")\n",
    "        clear_output()\n",
    "        if not index.isdigit():\n",
    "            print(f'{player1} Please enter a digit that is in the range of 1 to 9')\n",
    "        else:\n",
    "            if int(index) not in range(1,10):\n",
    "                print(f\"{player1} please enter a digit in range of 1 to 9\")\n",
    "            else:\n",
    "                print(f\"{player1} you have chosen to place {character1} at {index} position\")\n",
    "    return int(index)\n",
    "            \n",
    "    \n",
    "    "
   ]
  },
  {
   "cell_type": "code",
   "execution_count": 10,
   "metadata": {},
   "outputs": [
    {
     "name": "stdout",
     "output_type": "stream",
     "text": [
      "Raghav you have chosen to place X at 1 position\n"
     ]
    },
    {
     "data": {
      "text/plain": [
       "1"
      ]
     },
     "execution_count": 10,
     "metadata": {},
     "output_type": "execute_result"
    }
   ],
   "source": [
    "player1_index_input('Raghav','X',row_1,row_2,row_3)"
   ]
  },
  {
   "cell_type": "code",
   "execution_count": 11,
   "metadata": {},
   "outputs": [],
   "source": [
    "def tic_tac_toe_shower(index,row_1,row_2,row_3,character):\n",
    "    if index==1:\n",
    "        row_1[0]=character\n",
    "    elif index==2:\n",
    "        row_1[1]=character\n",
    "    elif index==3:\n",
    "        row_1[2]=character\n",
    "    elif index==4:\n",
    "        row_2[0]=character\n",
    "    elif index==5:\n",
    "        row_2[1]=character\n",
    "    elif index==6:\n",
    "        row_2[2]=character\n",
    "    elif index==7:\n",
    "        row_3[0]=character\n",
    "    elif index==8:\n",
    "        row_3[1]=character\n",
    "    elif index==9:\n",
    "        row_3[2]=character\n",
    "    print('After this move the board is as follows.')\n",
    "    print(row_3)\n",
    "    print(row_2)\n",
    "    print(row_1)\n",
    "    \n",
    "    \n",
    "    "
   ]
  },
  {
   "cell_type": "code",
   "execution_count": 12,
   "metadata": {},
   "outputs": [
    {
     "name": "stdout",
     "output_type": "stream",
     "text": [
      "After this move the board is as follows.\n",
      "[' ', ' ', ' ']\n",
      "[' ', 'X', ' ']\n",
      "[' ', ' ', ' ']\n"
     ]
    }
   ],
   "source": [
    "tic_tac_toe_shower(5,row_1,row_2,row_3,'X')"
   ]
  },
  {
   "cell_type": "code",
   "execution_count": 13,
   "metadata": {},
   "outputs": [],
   "source": [
    "def player2_index_input(player2,character2,row_1,row_2,row_3):\n",
    "    row1=[1,2,3]\n",
    "    row2=[4,5,6]\n",
    "    row3=[7,8,9]\n",
    "    \n",
    "    index=''\n",
    "    print('This is the allignment.')\n",
    "    print(row3)\n",
    "    print(row2)\n",
    "    print(row1)\n",
    "    print('This is input row as of now')\n",
    "    print(row_3)\n",
    "    print(row_2)\n",
    "    print(row_1)\n",
    "    while index.isdigit()==False or int(index) not in range(1,10):\n",
    "        index=input(f\"{player2} please enter an index position where you want to place your {character2} at : \")\n",
    "        clear_output()\n",
    "        if not index.isdigit():\n",
    "            print(f'{player2} Please enter a digit that is in the range of 1 to 9')\n",
    "        else:\n",
    "            if int(index) not in range(1,10):\n",
    "                print(f\"{player2} please enter a digit in range of 1 to 9\")\n",
    "            else:\n",
    "                print(f\"{player2} you have chosen to place {character2} at {index} position\")\n",
    "    return int(index)\n",
    "            \n",
    "    \n",
    "    "
   ]
  },
  {
   "cell_type": "code",
   "execution_count": 14,
   "metadata": {},
   "outputs": [
    {
     "name": "stdout",
     "output_type": "stream",
     "text": [
      "Hridyansh you have chosen to place O at 3 position\n"
     ]
    },
    {
     "data": {
      "text/plain": [
       "3"
      ]
     },
     "execution_count": 14,
     "metadata": {},
     "output_type": "execute_result"
    }
   ],
   "source": [
    "player2_index_input('Hridyansh','O',row_1,row_2,row_3)"
   ]
  },
  {
   "cell_type": "code",
   "execution_count": 15,
   "metadata": {},
   "outputs": [
    {
     "data": {
      "text/plain": [
       "[' ', ' ', ' ']"
      ]
     },
     "execution_count": 15,
     "metadata": {},
     "output_type": "execute_result"
    }
   ],
   "source": [
    "row_1"
   ]
  },
  {
   "cell_type": "code",
   "execution_count": 16,
   "metadata": {},
   "outputs": [
    {
     "data": {
      "text/plain": [
       "[' ', 'X', ' ']"
      ]
     },
     "execution_count": 16,
     "metadata": {},
     "output_type": "execute_result"
    }
   ],
   "source": [
    "row_2"
   ]
  },
  {
   "cell_type": "code",
   "execution_count": 17,
   "metadata": {},
   "outputs": [
    {
     "data": {
      "text/plain": [
       "[' ', ' ', ' ']"
      ]
     },
     "execution_count": 17,
     "metadata": {},
     "output_type": "execute_result"
    }
   ],
   "source": [
    "row_3"
   ]
  },
  {
   "cell_type": "code",
   "execution_count": 18,
   "metadata": {},
   "outputs": [
    {
     "data": {
      "text/plain": [
       "False"
      ]
     },
     "execution_count": 18,
     "metadata": {},
     "output_type": "execute_result"
    }
   ],
   "source": [
    "\"X\" in row_1"
   ]
  },
  {
   "cell_type": "code",
   "execution_count": 19,
   "metadata": {},
   "outputs": [
    {
     "data": {
      "text/plain": [
       "False"
      ]
     },
     "execution_count": 19,
     "metadata": {},
     "output_type": "execute_result"
    }
   ],
   "source": [
    "'X' in (row_1[0] or row_1[1] or row_1[2])"
   ]
  },
  {
   "cell_type": "code",
   "execution_count": 20,
   "metadata": {},
   "outputs": [
    {
     "data": {
      "text/plain": [
       "[' ', ' ', ' ']"
      ]
     },
     "execution_count": 20,
     "metadata": {},
     "output_type": "execute_result"
    }
   ],
   "source": [
    "row_1"
   ]
  },
  {
   "cell_type": "code",
   "execution_count": 21,
   "metadata": {},
   "outputs": [
    {
     "data": {
      "text/plain": [
       "[' ', ' ', ' ']"
      ]
     },
     "execution_count": 21,
     "metadata": {},
     "output_type": "execute_result"
    }
   ],
   "source": [
    "row_1"
   ]
  },
  {
   "cell_type": "code",
   "execution_count": 22,
   "metadata": {},
   "outputs": [
    {
     "data": {
      "text/plain": [
       "False"
      ]
     },
     "execution_count": 22,
     "metadata": {},
     "output_type": "execute_result"
    }
   ],
   "source": [
    "'X' in row_1"
   ]
  },
  {
   "cell_type": "code",
   "execution_count": 23,
   "metadata": {},
   "outputs": [
    {
     "data": {
      "text/plain": [
       "False"
      ]
     },
     "execution_count": 23,
     "metadata": {},
     "output_type": "execute_result"
    }
   ],
   "source": [
    "'X' in row_1[1]"
   ]
  },
  {
   "cell_type": "code",
   "execution_count": null,
   "metadata": {},
   "outputs": [],
   "source": []
  },
  {
   "cell_type": "code",
   "execution_count": 45,
   "metadata": {},
   "outputs": [],
   "source": [
    "def game_logic(player1,character1,player2,character2,row_1,row_2,row_3,n):\n",
    "    \n",
    "    if character1 in (row_1[0] and row_2[1] and row_3[2]):\n",
    "        print(f'{player1} wins!')\n",
    "        n=1\n",
    "    elif character2 in (row_1[0] and row_2[1] and row_3[2]):\n",
    "        print(f'{player2} wins!')\n",
    "        n=1\n",
    "    elif character1 in (row_1[2] and row_2[1] and row_3[0]):\n",
    "        print(f'{player1} wins!')\n",
    "        n=1\n",
    "    elif character2 in (row_1[2] and row_2[1] and row_3[0]):\n",
    "        print(f'{player2} wins!')\n",
    "        n=1\n",
    "    elif character1 in (row_1[0] and row_2[0] and row_3[0]):\n",
    "        print(f'{player1} wins!')\n",
    "        n=1\n",
    "    elif character2 in (row_1[0] and row_2[0] and row_3[0]):\n",
    "        print(f'{player2} wins!')\n",
    "        n=1\n",
    "    elif character1 in (row_1[1] and row_2[1] and row_3[1]):\n",
    "        print(f'{player1} wins!')\n",
    "        n=1\n",
    "    elif character2 in (row_1[1] and row_2[1] and row_3[1]):\n",
    "        print(f'{player2} wins!')\n",
    "        n=1\n",
    "    elif character1 in (row_1[2] and row_2[2] and row_3[2]):\n",
    "        print(f'{player1} wins!')\n",
    "        n=1\n",
    "    elif character2 in (row_1[2] and row_2[2] and row_3[2]):\n",
    "        print(f'{player2} wins!')\n",
    "        n=1\n",
    "    elif character1 in (row_1[0] and row_1[1] and row_1[2]):\n",
    "        print(f'{player1} wins!')\n",
    "        n=1\n",
    "    elif character2 in (row_1[0] and row_1[1] and row_1[2]):\n",
    "        print(f'{player2} wins!')\n",
    "        n=1\n",
    "    elif character1 in (row_2[0] and row_2[1] and row_2[2]):\n",
    "        print(f'{player1} wins!')\n",
    "        n=1\n",
    "    elif character2 in (row_2[0] and row_2[1] and row_2[2]):\n",
    "        print(f'{player2} wins!')\n",
    "        n=1\n",
    "    elif character1 in (row_3[0] and row_3[1] and row_3[2]):\n",
    "        print(f'{player1} wins!')\n",
    "        n=1\n",
    "    elif character2 in (row_3[0] and row_3[1] and row_3[2]):\n",
    "        print(f'{player2} wins!')\n",
    "        n=1\n",
    "    else:\n",
    "        n=1\n",
    "   \n",
    "    \n",
    "\n",
    "        \n"
   ]
  },
  {
   "cell_type": "code",
   "execution_count": 46,
   "metadata": {},
   "outputs": [
    {
     "data": {
      "text/plain": [
       "[' ', ' ', ' ']"
      ]
     },
     "execution_count": 46,
     "metadata": {},
     "output_type": "execute_result"
    }
   ],
   "source": [
    "row_1"
   ]
  },
  {
   "cell_type": "code",
   "execution_count": 47,
   "metadata": {},
   "outputs": [
    {
     "data": {
      "text/plain": [
       "[' ', 'X', ' ']"
      ]
     },
     "execution_count": 47,
     "metadata": {},
     "output_type": "execute_result"
    }
   ],
   "source": [
    "row_2"
   ]
  },
  {
   "cell_type": "code",
   "execution_count": 48,
   "metadata": {},
   "outputs": [
    {
     "data": {
      "text/plain": [
       "[' ', ' ', ' ']"
      ]
     },
     "execution_count": 48,
     "metadata": {},
     "output_type": "execute_result"
    }
   ],
   "source": [
    "row_3"
   ]
  },
  {
   "cell_type": "code",
   "execution_count": 50,
   "metadata": {},
   "outputs": [],
   "source": [
    "game_logic('Raghav','X','Hridyansh','O',row_1,row_2,row_3,0)"
   ]
  },
  {
   "cell_type": "code",
   "execution_count": 51,
   "metadata": {},
   "outputs": [],
   "source": [
    "def play_once_again(player1,player2):\n",
    "    yes_or_no_1=''\n",
    "    yes_or_no_2=''\n",
    "    while (yes_or_no_1 and yes_or_no_2) not in ['Y','N']:\n",
    "        yes_or_no_1=input('{} if you would like to play again then please type Y else type N'.format(player1))\n",
    "        yes_or_no_2=input('{} if you would like to play again the please type Y else type N'.format(player2))\n",
    "        clear_output()\n",
    "        if (yes_or_no_1 and yes_or_no_2)=='Y':\n",
    "            print('Yoohoo!The game will start again, get ready guys!')\n",
    "        elif ((yes_or_no_1!=yes_or_no_2) and ((yes_or_no_1 and yes_or_no_2) in ['Y','N'])) or ((yes_or_no_1 and yes_or_no_2) in ['N']) :\n",
    "            print('See you again, guys!')\n",
    "        else:\n",
    "            print('Please type either Y or N')\n",
    "        \n",
    "    "
   ]
  },
  {
   "cell_type": "code",
   "execution_count": 52,
   "metadata": {},
   "outputs": [
    {
     "name": "stdout",
     "output_type": "stream",
     "text": [
      "See you again, guys!\n"
     ]
    }
   ],
   "source": [
    "play_once_again('raghav','hridyansh')\n"
   ]
  },
  {
   "cell_type": "code",
   "execution_count": 55,
   "metadata": {},
   "outputs": [],
   "source": [
    "def tic_tac_toe_game():\n",
    "    enter_message()\n",
    "    player1=player_1()\n",
    "    player2=player_2()\n",
    "    character1=x_or_o(player1,player2)\n",
    "    character2=''\n",
    "    if character1=='X':\n",
    "        character2='O'\n",
    "    elif character1=='O':\n",
    "        character2='X' \n",
    "    row_3=[' ',' ',' ']\n",
    "    row_2=[' ',' ',' ']\n",
    "    row_1=[' ',' ',' ']\n",
    "    n=0\n",
    "    k=0\n",
    "    while(n==0):\n",
    "        index1=player1_index_input(player1,character1,row_1,row_2,row_3)\n",
    "        tic_tac_toe_shower(index1,row_1,row_2,row_3,character1)\n",
    "        game_logic(player1,character1,player2, character2, row_1, row_2, row_3, n)\n",
    "        if n==1:\n",
    "            break\n",
    "        index2=player2_index_input(player2,character2,row_1,row_2,row_3)\n",
    "        tic_tac_toe_shower(index2,row_1,row_2,row_3,character2)\n",
    "        game_logic(player1,character1,player2, character2, row_1, row_2, row_3, n)\n",
    "    \n",
    "    play_once_again(player1, player2)\n",
    "    "
   ]
  },
  {
   "cell_type": "code",
   "execution_count": 56,
   "metadata": {},
   "outputs": [
    {
     "name": "stdout",
     "output_type": "stream",
     "text": [
      "Jaipreet please enter a digit in range of 1 to 9\n"
     ]
    },
    {
     "ename": "KeyboardInterrupt",
     "evalue": "Interrupted by user",
     "output_type": "error",
     "traceback": [
      "\u001b[1;31m---------------------------------------------------------------------------\u001b[0m",
      "\u001b[1;31mKeyboardInterrupt\u001b[0m                         Traceback (most recent call last)",
      "\u001b[1;32m<ipython-input-56-f8dae56bb86c>\u001b[0m in \u001b[0;36m<module>\u001b[1;34m\u001b[0m\n\u001b[1;32m----> 1\u001b[1;33m \u001b[0mtic_tac_toe_game\u001b[0m\u001b[1;33m(\u001b[0m\u001b[1;33m)\u001b[0m\u001b[1;33m\u001b[0m\u001b[1;33m\u001b[0m\u001b[0m\n\u001b[0m",
      "\u001b[1;32m<ipython-input-55-57aefadec0a8>\u001b[0m in \u001b[0;36mtic_tac_toe_game\u001b[1;34m()\u001b[0m\n\u001b[0;32m     20\u001b[0m         \u001b[1;32mif\u001b[0m \u001b[0mn\u001b[0m\u001b[1;33m==\u001b[0m\u001b[1;36m1\u001b[0m\u001b[1;33m:\u001b[0m\u001b[1;33m\u001b[0m\u001b[1;33m\u001b[0m\u001b[0m\n\u001b[0;32m     21\u001b[0m             \u001b[1;32mbreak\u001b[0m\u001b[1;33m\u001b[0m\u001b[1;33m\u001b[0m\u001b[0m\n\u001b[1;32m---> 22\u001b[1;33m         \u001b[0mindex2\u001b[0m\u001b[1;33m=\u001b[0m\u001b[0mplayer2_index_input\u001b[0m\u001b[1;33m(\u001b[0m\u001b[0mplayer2\u001b[0m\u001b[1;33m,\u001b[0m\u001b[0mcharacter2\u001b[0m\u001b[1;33m,\u001b[0m\u001b[0mrow_1\u001b[0m\u001b[1;33m,\u001b[0m\u001b[0mrow_2\u001b[0m\u001b[1;33m,\u001b[0m\u001b[0mrow_3\u001b[0m\u001b[1;33m)\u001b[0m\u001b[1;33m\u001b[0m\u001b[1;33m\u001b[0m\u001b[0m\n\u001b[0m\u001b[0;32m     23\u001b[0m         \u001b[0mtic_tac_toe_shower\u001b[0m\u001b[1;33m(\u001b[0m\u001b[0mindex2\u001b[0m\u001b[1;33m,\u001b[0m\u001b[0mrow_1\u001b[0m\u001b[1;33m,\u001b[0m\u001b[0mrow_2\u001b[0m\u001b[1;33m,\u001b[0m\u001b[0mrow_3\u001b[0m\u001b[1;33m,\u001b[0m\u001b[0mcharacter2\u001b[0m\u001b[1;33m)\u001b[0m\u001b[1;33m\u001b[0m\u001b[1;33m\u001b[0m\u001b[0m\n\u001b[0;32m     24\u001b[0m         \u001b[0mgame_logic\u001b[0m\u001b[1;33m(\u001b[0m\u001b[0mplayer1\u001b[0m\u001b[1;33m,\u001b[0m\u001b[0mcharacter1\u001b[0m\u001b[1;33m,\u001b[0m\u001b[0mplayer2\u001b[0m\u001b[1;33m,\u001b[0m \u001b[0mcharacter2\u001b[0m\u001b[1;33m,\u001b[0m \u001b[0mrow_1\u001b[0m\u001b[1;33m,\u001b[0m \u001b[0mrow_2\u001b[0m\u001b[1;33m,\u001b[0m \u001b[0mrow_3\u001b[0m\u001b[1;33m,\u001b[0m \u001b[0mn\u001b[0m\u001b[1;33m)\u001b[0m\u001b[1;33m\u001b[0m\u001b[1;33m\u001b[0m\u001b[0m\n",
      "\u001b[1;32m<ipython-input-13-aeeada7996c0>\u001b[0m in \u001b[0;36mplayer2_index_input\u001b[1;34m(player2, character2, row_1, row_2, row_3)\u001b[0m\n\u001b[0;32m     14\u001b[0m     \u001b[0mprint\u001b[0m\u001b[1;33m(\u001b[0m\u001b[0mrow_1\u001b[0m\u001b[1;33m)\u001b[0m\u001b[1;33m\u001b[0m\u001b[1;33m\u001b[0m\u001b[0m\n\u001b[0;32m     15\u001b[0m     \u001b[1;32mwhile\u001b[0m \u001b[0mindex\u001b[0m\u001b[1;33m.\u001b[0m\u001b[0misdigit\u001b[0m\u001b[1;33m(\u001b[0m\u001b[1;33m)\u001b[0m\u001b[1;33m==\u001b[0m\u001b[1;32mFalse\u001b[0m \u001b[1;32mor\u001b[0m \u001b[0mint\u001b[0m\u001b[1;33m(\u001b[0m\u001b[0mindex\u001b[0m\u001b[1;33m)\u001b[0m \u001b[1;32mnot\u001b[0m \u001b[1;32min\u001b[0m \u001b[0mrange\u001b[0m\u001b[1;33m(\u001b[0m\u001b[1;36m1\u001b[0m\u001b[1;33m,\u001b[0m\u001b[1;36m10\u001b[0m\u001b[1;33m)\u001b[0m\u001b[1;33m:\u001b[0m\u001b[1;33m\u001b[0m\u001b[1;33m\u001b[0m\u001b[0m\n\u001b[1;32m---> 16\u001b[1;33m         \u001b[0mindex\u001b[0m\u001b[1;33m=\u001b[0m\u001b[0minput\u001b[0m\u001b[1;33m(\u001b[0m\u001b[1;34mf\"{player2} please enter an index position where you want to place your {character2} at : \"\u001b[0m\u001b[1;33m)\u001b[0m\u001b[1;33m\u001b[0m\u001b[1;33m\u001b[0m\u001b[0m\n\u001b[0m\u001b[0;32m     17\u001b[0m         \u001b[0mclear_output\u001b[0m\u001b[1;33m(\u001b[0m\u001b[1;33m)\u001b[0m\u001b[1;33m\u001b[0m\u001b[1;33m\u001b[0m\u001b[0m\n\u001b[0;32m     18\u001b[0m         \u001b[1;32mif\u001b[0m \u001b[1;32mnot\u001b[0m \u001b[0mindex\u001b[0m\u001b[1;33m.\u001b[0m\u001b[0misdigit\u001b[0m\u001b[1;33m(\u001b[0m\u001b[1;33m)\u001b[0m\u001b[1;33m:\u001b[0m\u001b[1;33m\u001b[0m\u001b[1;33m\u001b[0m\u001b[0m\n",
      "\u001b[1;32m~\\anaconda3\\lib\\site-packages\\ipykernel\\kernelbase.py\u001b[0m in \u001b[0;36mraw_input\u001b[1;34m(self, prompt)\u001b[0m\n\u001b[0;32m    858\u001b[0m                 \u001b[1;34m\"raw_input was called, but this frontend does not support input requests.\"\u001b[0m\u001b[1;33m\u001b[0m\u001b[1;33m\u001b[0m\u001b[0m\n\u001b[0;32m    859\u001b[0m             )\n\u001b[1;32m--> 860\u001b[1;33m         return self._input_request(str(prompt),\n\u001b[0m\u001b[0;32m    861\u001b[0m             \u001b[0mself\u001b[0m\u001b[1;33m.\u001b[0m\u001b[0m_parent_ident\u001b[0m\u001b[1;33m,\u001b[0m\u001b[1;33m\u001b[0m\u001b[1;33m\u001b[0m\u001b[0m\n\u001b[0;32m    862\u001b[0m             \u001b[0mself\u001b[0m\u001b[1;33m.\u001b[0m\u001b[0m_parent_header\u001b[0m\u001b[1;33m,\u001b[0m\u001b[1;33m\u001b[0m\u001b[1;33m\u001b[0m\u001b[0m\n",
      "\u001b[1;32m~\\anaconda3\\lib\\site-packages\\ipykernel\\kernelbase.py\u001b[0m in \u001b[0;36m_input_request\u001b[1;34m(self, prompt, ident, parent, password)\u001b[0m\n\u001b[0;32m    902\u001b[0m             \u001b[1;32mexcept\u001b[0m \u001b[0mKeyboardInterrupt\u001b[0m\u001b[1;33m:\u001b[0m\u001b[1;33m\u001b[0m\u001b[1;33m\u001b[0m\u001b[0m\n\u001b[0;32m    903\u001b[0m                 \u001b[1;31m# re-raise KeyboardInterrupt, to truncate traceback\u001b[0m\u001b[1;33m\u001b[0m\u001b[1;33m\u001b[0m\u001b[1;33m\u001b[0m\u001b[0m\n\u001b[1;32m--> 904\u001b[1;33m                 \u001b[1;32mraise\u001b[0m \u001b[0mKeyboardInterrupt\u001b[0m\u001b[1;33m(\u001b[0m\u001b[1;34m\"Interrupted by user\"\u001b[0m\u001b[1;33m)\u001b[0m \u001b[1;32mfrom\u001b[0m \u001b[1;32mNone\u001b[0m\u001b[1;33m\u001b[0m\u001b[1;33m\u001b[0m\u001b[0m\n\u001b[0m\u001b[0;32m    905\u001b[0m             \u001b[1;32mexcept\u001b[0m \u001b[0mException\u001b[0m \u001b[1;32mas\u001b[0m \u001b[0me\u001b[0m\u001b[1;33m:\u001b[0m\u001b[1;33m\u001b[0m\u001b[1;33m\u001b[0m\u001b[0m\n\u001b[0;32m    906\u001b[0m                 \u001b[0mself\u001b[0m\u001b[1;33m.\u001b[0m\u001b[0mlog\u001b[0m\u001b[1;33m.\u001b[0m\u001b[0mwarning\u001b[0m\u001b[1;33m(\u001b[0m\u001b[1;34m\"Invalid Message:\"\u001b[0m\u001b[1;33m,\u001b[0m \u001b[0mexc_info\u001b[0m\u001b[1;33m=\u001b[0m\u001b[1;32mTrue\u001b[0m\u001b[1;33m)\u001b[0m\u001b[1;33m\u001b[0m\u001b[1;33m\u001b[0m\u001b[0m\n",
      "\u001b[1;31mKeyboardInterrupt\u001b[0m: Interrupted by user"
     ]
    }
   ],
   "source": [
    "tic_tac_toe_game()"
   ]
  },
  {
   "cell_type": "code",
   "execution_count": 16,
   "metadata": {},
   "outputs": [],
   "source": [
    "from IPython.display import clear_output\n",
    "def enter_message():\n",
    "    print(\"Hey! Welcome to Hridyansh's TIC TAC TOE Game!\")\n",
    "    print(\"In this game you'll have to enter the grid number where you want to place your X or your O. All other basic rules of TIC TAC TOE will be valid.\")\n",
    "    print('This is the GRID\\n[7,8,9]\\n[4,5,6]\\n[1,2,3]')\n",
    "    print('Say you are player 1 and you have chosen X then you\\'l tell me your grid number where you want to place X and so on.')\n",
    "\n",
    "    \n",
    "def player_1():\n",
    "    return input(\"Please enter name of the player who will go first.\")\n",
    "\n",
    "def player_2():\n",
    "    return input(\"Please enter second player's name.\")\n",
    "\n",
    "def x_or_o(player1,player2):\n",
    "    x_or_o_1=''\n",
    "    while x_or_o_1 not in [\"X\",\"O\"]:\n",
    "        x_or_o_1=input(f'{player1} would you like to choose an X or an O.')\n",
    "        clear_output()\n",
    "        if x_or_o_1 not in [\"X\",\"O\"]:\n",
    "            print(f'{player1} Please enter either X or an O')\n",
    "        else:\n",
    "            if x_or_o_1=='X':\n",
    "                print(f'{player2} you will have to play with an O')\n",
    "            else:\n",
    "                print(f'{player2} you will have to play with an X')\n",
    "    return x_or_o_1\n",
    "\n",
    "\n",
    "\n",
    "def player1_index_input(player1,character1,row_1,row_2,row_3):\n",
    "    row1=[1,2,3]\n",
    "    row2=[4,5,6]\n",
    "    row3=[7,8,9]\n",
    "    \n",
    "    index=''\n",
    "    print('This is the allignment as of now')\n",
    "    print(row3)\n",
    "    print(row2)\n",
    "    print(row1)\n",
    "    print('This is input row as of now')\n",
    "    print(row_3)\n",
    "    print(row_2)\n",
    "    print(row_1)\n",
    "    while index.isdigit()==False or int(index) not in range(1,10):\n",
    "        index=input(f\"{player1} please enter an index position where you want to place your {character1} at : \")\n",
    "        clear_output()\n",
    "        if not index.isdigit():\n",
    "            print(f'{player1} Please enter a digit that is in the range of 1 to 9')\n",
    "        else:\n",
    "            if int(index) not in range(1,10):\n",
    "                print(f\"{player1} please enter a digit in range of 1 to 9\")\n",
    "            else:\n",
    "                print(f\"{player1} you have chosen to place {character1} at {index} position\")\n",
    "    return int(index)\n",
    "\n",
    "\n",
    "def tic_tac_toe_shower(index,row_1,row_2,row_3,character):\n",
    "    if index==1 and row_1[0]==' ':\n",
    "        row_1[0]=character\n",
    "        \n",
    "    elif index==2 and row_1[1]==' ':\n",
    "        row_1[1]=character\n",
    "        \n",
    "    elif index==3 and row_1[2]==' ':\n",
    "        row_1[2]=character\n",
    "        \n",
    "    elif index==4 and row_2[0] == ' ':\n",
    "        row_2[0]=character\n",
    "       \n",
    "    elif index==5 and row_2[1] ==' ':\n",
    "        row_2[1]=character\n",
    "       \n",
    "    elif index==6 and row_2[2]==' ':\n",
    "        row_2[2]=character\n",
    "        \n",
    "    elif index==7 and row_3[0] == ' ':\n",
    "        row_3[0]=character\n",
    "        \n",
    "    elif index==8 and row_3[1] == ' ':\n",
    "        row_3[1]=character\n",
    "        \n",
    "    elif index==9 and row_3[2]==' ':\n",
    "        row_3[2]=character\n",
    "        \n",
    "    else:\n",
    "        print('Sorry, someone is already placed at that position')\n",
    "        return 0\n",
    "    print('After this move the board is as follows.')\n",
    "    print(row_3)\n",
    "    print(row_2)\n",
    "    print(row_1)\n",
    "    return 1\n",
    "    \n",
    "    \n",
    "def player2_index_input(player2,character2,row_1,row_2,row_3):\n",
    "    row1=[1,2,3]\n",
    "    row2=[4,5,6]\n",
    "    row3=[7,8,9]\n",
    "    \n",
    "    index=''\n",
    "    print('This is the allignment as of now.')\n",
    "    print(row3)\n",
    "    print(row2)\n",
    "    print(row1)\n",
    "    print('This is input row as of now')\n",
    "    print(row_3)\n",
    "    print(row_2)\n",
    "    print(row_1)\n",
    "    while index.isdigit()==False or int(index) not in range(1,10):\n",
    "        index=input(f\"{player2} please enter an index position where you want to place your {character2} at : \")\n",
    "        clear_output()\n",
    "        if not index.isdigit():\n",
    "            print(f'{player2} Please enter a digit that is in the range of 1 to 9')\n",
    "        else:\n",
    "            if int(index) not in range(1,10):\n",
    "                print(f\"{player2} please enter a digit in range of 1 to 9\")\n",
    "            else:\n",
    "                print(f\"{player2} you have chosen to place {character2} at {index} position\")\n",
    "    return int(index)\n",
    "            \n",
    "    \n",
    "def game_logic(player1,character1,player2,character2,row_1,row_2,row_3):\n",
    "    if row_1[0]==character1 and row_1[1]==character1 and row_1[2]==character1:\n",
    "        print(f'{player1} wins!')\n",
    "        return 1\n",
    "    elif row_1[0]==character2 and row_1[1]==character2 and row_1[2]==character2:\n",
    "        print(f'{player2} wins!')\n",
    "        return 1\n",
    "    elif row_2[0]==character1 and row_2[1]==character1 and row_2[2]==character1:\n",
    "        print(f'{player1} wins!')\n",
    "        return 1\n",
    "    elif row_2[0]==character2 and row_2[1]==character2 and row_2[2]==character2:\n",
    "        print(f'{player2} wins!')\n",
    "        return 1\n",
    "    elif row_3[0]==character1 and row_3[1]==character1 and row_3[2]==character1:\n",
    "        print(f'{player1} wins!')\n",
    "        return 1\n",
    "    elif row_3[0]==character2 and row_3[1]==character2 and row_3[2]==character2:\n",
    "        print(f'{player2} wins!')\n",
    "        return 1\n",
    "    elif row_1[0]==character1 and row_2[0]==character1 and row_3[0]==character1:\n",
    "        print(f'{player1} wins!')\n",
    "        return 1\n",
    "    elif row_1[0]==character2 and row_2[0]==character2 and row_3[0]==character2:\n",
    "        print(f'{player2} wins!')\n",
    "        return 1\n",
    "    elif row_1[1]==character1 and row_2[1]==character1 and row_3[1]==character1:\n",
    "        print(f'{player1} wins!')\n",
    "        return 1\n",
    "    elif row_1[1]==character2 and row_2[1]==character2 and row_3[1]==character2:\n",
    "        print(f'{player2} wins!')\n",
    "        return 1\n",
    "    elif row_1[2]==character1 and row_2[2]==character1 and row_3[2]==character1:\n",
    "        print(f'{player1} wins!')\n",
    "        return 1\n",
    "    elif row_1[2]==character2 and row_2[2]==character2 and row_3[2]==character2:\n",
    "        print(f'{player2} wins!')\n",
    "        return 1\n",
    "    elif row_1[0]==character1 and row_2[1]==character1 and row_3[2]==character1:\n",
    "        print(f'{player1} wins!')\n",
    "        return 1\n",
    "    elif row_1[0]==character2 and row_2[1]==character2 and row_3[2]==character2:\n",
    "        print(f'{player2} wins!')\n",
    "        return 1\n",
    "    elif row_1[2]==character1 and row_2[1]==character1 and row_3[0]==character1:\n",
    "        print(f'{player1} wins!')\n",
    "        return 1\n",
    "    elif row_1[2]==character2 and row_2[1]==character2 and row_3[0]==character2:\n",
    "        print(f'{player2} wins!')\n",
    "        return 1\n",
    "    else:\n",
    "        return 0\n",
    "    \n",
    "            \n",
    "def play_once_again(player1,player2):\n",
    "    yes_or_no_1=''\n",
    "    while yes_or_no_1 not in ['Y', 'N']:\n",
    "        yes_or_no_1=input(f\"{player1}, if you would like to play once again then type Y else type N\")\n",
    "        if yes_or_no_1 not in ['Y', 'N']:\n",
    "            print('{} Please type either Y or N\\n'.format(player1))\n",
    "        clear_output()\n",
    "    yes_or_no_2=''\n",
    "    while yes_or_no_2 not in ['Y', 'N']:\n",
    "        yes_or_no_2=input(f\"{player2}, if you would like to play once again then type Y else type N\")\n",
    "        if yes_or_no_2 not in ['Y', 'N']:\n",
    "            print('{} Please type either Y or N\\n'.format(player2))\n",
    "        clear_output()\n",
    "    if yes_or_no_1=='Y' and yes_or_no_2=='Y':\n",
    "        return 1\n",
    "    else:\n",
    "        print('See you again, guys!')\n",
    "        return 0\n",
    "    \n",
    "        \n",
    "\n",
    "def tic_tac_toe_game():\n",
    "    enter_message()\n",
    "    player1=player_1()\n",
    "    player2=player_2()\n",
    "    def new_fxn(player1, player2):\n",
    "        character1=x_or_o(player1,player2)\n",
    "        character2=''\n",
    "        if character1=='X':\n",
    "            character2='O'\n",
    "        elif character1=='O':\n",
    "            character2='X' \n",
    "        row_3=[' ',' ',' ']\n",
    "        row_2=[' ',' ',' ']\n",
    "        row_1=[' ',' ',' ']\n",
    "        n=0\n",
    "        u = 0\n",
    "        while(n==0):\n",
    "            index1=player1_index_input(player1,character1,row_1,row_2,row_3)\n",
    "            k=tic_tac_toe_shower(index1,row_1,row_2,row_3,character1)\n",
    "            while k==0:\n",
    "                index1=player1_index_input(player1, character1, row_1, row_2, row_3)\n",
    "                k=tic_tac_toe_shower(index1, row_1, row_2, row_3, character1)\n",
    "            u+=1\n",
    "            n=game_logic(player1,character1,player2, character2, row_1, row_2, row_3)\n",
    "            if u==9:\n",
    "                print(\"It's a draw!\")\n",
    "                break\n",
    "            if n==1:\n",
    "                break\n",
    "            index2=player2_index_input(player2,character2,row_1,row_2,row_3)\n",
    "            k=tic_tac_toe_shower(index2,row_1,row_2,row_3,character2)\n",
    "            while k==0:\n",
    "                index2=player2_index_input(player2, character2, row_1, row_2, row_3)\n",
    "                k=tic_tac_toe_shower(index2, row_1, row_2, row_3, character2)\n",
    "            u+=1\n",
    "            n=game_logic(player1,character1,player2, character2, row_1, row_2, row_3)\n",
    "    new_fxn(player1, player2)\n",
    "    y_or_n = ' '\n",
    "    while(y_or_n!=0):\n",
    "        y_or_n=play_once_again(player1, player2)\n",
    "        if y_or_n==0:\n",
    "            break\n",
    "        new_fxn(player1, player2)\n",
    "        \n",
    "        \n",
    "    \n",
    "   \n",
    "    \n",
    "\n",
    "        \n",
    "\n",
    "    \n",
    "    \n",
    "    \n",
    "            \n",
    "    \n",
    "    "
   ]
  },
  {
   "cell_type": "code",
   "execution_count": 17,
   "metadata": {},
   "outputs": [
    {
     "name": "stdout",
     "output_type": "stream",
     "text": [
      "See you again, guys!\n"
     ]
    }
   ],
   "source": [
    "tic_tac_toe_game()\n"
   ]
  },
  {
   "cell_type": "markdown",
   "metadata": {},
   "source": [
    "###### "
   ]
  }
 ],
 "metadata": {
  "kernelspec": {
   "display_name": "Python 3",
   "language": "python",
   "name": "python3"
  },
  "language_info": {
   "codemirror_mode": {
    "name": "ipython",
    "version": 3
   },
   "file_extension": ".py",
   "mimetype": "text/x-python",
   "name": "python",
   "nbconvert_exporter": "python",
   "pygments_lexer": "ipython3",
   "version": "3.8.5"
  }
 },
 "nbformat": 4,
 "nbformat_minor": 4
}
